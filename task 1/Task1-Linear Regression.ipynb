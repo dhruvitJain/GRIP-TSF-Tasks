{
 "cells": [
  {
   "cell_type": "markdown",
   "metadata": {},
   "source": [
    "# Name - Dhruvit Jain\n",
    "\n",
    "# The Sparks Foundation Internship \n",
    "\n",
    "# GRIP January 2021 \n",
    "\n",
    "# Task #1 -  Prediction using Supervised ML\n"
   ]
  },
  {
   "cell_type": "code",
   "execution_count": 1,
   "metadata": {},
   "outputs": [],
   "source": [
    "#importing required libraries\n",
    "import pandas as pd\n",
    "import numpy as np\n",
    "import matplotlib.pyplot as plt"
   ]
  },
  {
   "cell_type": "code",
   "execution_count": 2,
   "metadata": {},
   "outputs": [
    {
     "name": "stdout",
     "output_type": "stream",
     "text": [
      "(25, 2)\n"
     ]
    },
    {
     "data": {
      "text/html": [
       "<div>\n",
       "<style scoped>\n",
       "    .dataframe tbody tr th:only-of-type {\n",
       "        vertical-align: middle;\n",
       "    }\n",
       "\n",
       "    .dataframe tbody tr th {\n",
       "        vertical-align: top;\n",
       "    }\n",
       "\n",
       "    .dataframe thead th {\n",
       "        text-align: right;\n",
       "    }\n",
       "</style>\n",
       "<table border=\"1\" class=\"dataframe\">\n",
       "  <thead>\n",
       "    <tr style=\"text-align: right;\">\n",
       "      <th></th>\n",
       "      <th>Hours</th>\n",
       "      <th>Scores</th>\n",
       "    </tr>\n",
       "  </thead>\n",
       "  <tbody>\n",
       "    <tr>\n",
       "      <th>0</th>\n",
       "      <td>2.5</td>\n",
       "      <td>21</td>\n",
       "    </tr>\n",
       "    <tr>\n",
       "      <th>1</th>\n",
       "      <td>5.1</td>\n",
       "      <td>47</td>\n",
       "    </tr>\n",
       "    <tr>\n",
       "      <th>2</th>\n",
       "      <td>3.2</td>\n",
       "      <td>27</td>\n",
       "    </tr>\n",
       "    <tr>\n",
       "      <th>3</th>\n",
       "      <td>8.5</td>\n",
       "      <td>75</td>\n",
       "    </tr>\n",
       "    <tr>\n",
       "      <th>4</th>\n",
       "      <td>3.5</td>\n",
       "      <td>30</td>\n",
       "    </tr>\n",
       "    <tr>\n",
       "      <th>5</th>\n",
       "      <td>1.5</td>\n",
       "      <td>20</td>\n",
       "    </tr>\n",
       "    <tr>\n",
       "      <th>6</th>\n",
       "      <td>9.2</td>\n",
       "      <td>88</td>\n",
       "    </tr>\n",
       "    <tr>\n",
       "      <th>7</th>\n",
       "      <td>5.5</td>\n",
       "      <td>60</td>\n",
       "    </tr>\n",
       "    <tr>\n",
       "      <th>8</th>\n",
       "      <td>8.3</td>\n",
       "      <td>81</td>\n",
       "    </tr>\n",
       "    <tr>\n",
       "      <th>9</th>\n",
       "      <td>2.7</td>\n",
       "      <td>25</td>\n",
       "    </tr>\n",
       "  </tbody>\n",
       "</table>\n",
       "</div>"
      ],
      "text/plain": [
       "   Hours  Scores\n",
       "0    2.5      21\n",
       "1    5.1      47\n",
       "2    3.2      27\n",
       "3    8.5      75\n",
       "4    3.5      30\n",
       "5    1.5      20\n",
       "6    9.2      88\n",
       "7    5.5      60\n",
       "8    8.3      81\n",
       "9    2.7      25"
      ]
     },
     "execution_count": 2,
     "metadata": {},
     "output_type": "execute_result"
    }
   ],
   "source": [
    "#read the csv file with scores and show the first 10 values\n",
    "df = pd.read_csv('scores.csv')\n",
    "print (df.shape)\n",
    "df.head(10)"
   ]
  },
  {
   "cell_type": "code",
   "execution_count": 3,
   "metadata": {},
   "outputs": [
    {
     "name": "stdout",
     "output_type": "stream",
     "text": [
      "Attributes:  [2.5 5.1 3.2 8.5 3.5 1.5 9.2 5.5 8.3 2.7 7.7 5.9 4.5 3.3 1.1 8.9 2.5 1.9\n",
      " 6.1 7.4 2.7 4.8 3.8 6.9 7.8]\n",
      "Labels:  [21 47 27 75 30 20 88 60 81 25 85 62 41 42 17 95 30 24 67 69 30 54 35 76\n",
      " 86]\n"
     ]
    }
   ],
   "source": [
    "#Seperating the hours and scores into different lists to be easily used later\n",
    "#X are the attributes\n",
    "# y are the labels\n",
    "\n",
    "X = df.iloc[:,0].values #select all columns except last as attributes\n",
    "print (\"Attributes: \",X)\n",
    "y= df.iloc[:,-1].values #only the last column as label \n",
    "print (\"Labels: \",y)"
   ]
  },
  {
   "cell_type": "code",
   "execution_count": 4,
   "metadata": {},
   "outputs": [
    {
     "data": {
      "image/png": "[encoded data removed]",
      "text/plain": [
       "<Figure size 432x288 with 1 Axes>"
      ]
     },
     "metadata": {
      "needs_background": "light"
     },
     "output_type": "display_data"
    }
   ],
   "source": [
    "plt.scatter (X,y,s=40,marker='o',c='#e0163d')\n",
    "plt.title(\"Hours vs Score\",fontsize= 20)\n",
    "plt.xlabel(\"Hours\",fontsize= 15)\n",
    "plt.ylabel(\"Score\",fontsize= 15)\n",
    "plt.show()"
   ]
  },
  {
   "cell_type": "code",
   "execution_count": 5,
   "metadata": {},
   "outputs": [
    {
     "name": "stdout",
     "output_type": "stream",
     "text": [
      "Train Test split complete. \n",
      "\n"
     ]
    }
   ],
   "source": [
    "#Splitting available data into traning and testing blocks\n",
    "\n",
    "from sklearn.model_selection import train_test_split\n",
    "X_train, X_test, y_train, y_test= train_test_split(X,y,train_size=0.9)\n",
    "print (\"Train Test split complete. \\n\")\n",
    "\n",
    "\n",
    "X_train=X_train.reshape (-1,1)\n",
    "y_train=y_train.reshape (-1,1)\n",
    "X_test=X_test.reshape (-1,1)\n",
    "y_test=y_test.reshape (-1,1)\n",
    "\n",
    "\n",
    "# print (\"Training Data \\n\")\n",
    "# print (\"Attributes to train: \",X_train)\n",
    "# print (\"Labels to train: \",y_train)\n",
    "# print (\"\\nTesting Data \\n\")\n",
    "# print (\"Attributes to test:\",X_test)\n",
    "# print (\"Labels to test:\",y_test)"
   ]
  },
  {
   "cell_type": "code",
   "execution_count": 6,
   "metadata": {},
   "outputs": [
    {
     "name": "stdout",
     "output_type": "stream",
     "text": [
      "Regression Coefficient:  [[9.49413416]]\n",
      "Regression Intercept:  [4.22777638]\n"
     ]
    }
   ],
   "source": [
    "#Training the model and finding slope(coefficient) and intercept\n",
    "from sklearn.linear_model import LinearRegression  \n",
    "regression = LinearRegression()\n",
    "regression.fit(X_train,y_train)\n",
    "print (\"Regression Coefficient: \", regression.coef_)\n",
    "print (\"Regression Intercept: \", regression.intercept_)"
   ]
  },
  {
   "cell_type": "code",
   "execution_count": 7,
   "metadata": {},
   "outputs": [
    {
     "data": {
      "image/png": "[encoded data removed]",
      "text/plain": [
       "<Figure size 432x288 with 1 Axes>"
      ]
     },
     "metadata": {
      "needs_background": "light"
     },
     "output_type": "display_data"
    }
   ],
   "source": [
    "#Plotting the regression line on the scatter plot shown earlier\n",
    "\n",
    "m, b = np.polyfit(X, y, 1)\n",
    "plt.plot(X, m*X + b,color='r') #regression line using y=mx+c formula\n",
    "plt.scatter(X, y)\n",
    "plt.title(\"Hours vs Score\",fontsize= 20)\n",
    "plt.xlabel(\"Hours\",fontsize= 15)\n",
    "plt.ylabel(\"Score\",fontsize= 15)\n",
    "plt.show()"
   ]
  },
  {
   "cell_type": "code",
   "execution_count": 8,
   "metadata": {},
   "outputs": [
    {
     "name": "stdout",
     "output_type": "stream",
     "text": [
      "[[34.60900569]\n",
      " [27.96311178]\n",
      " [69.73730207]]\n"
     ]
    }
   ],
   "source": [
    "#Now testing the test set we have created earlier\n",
    "y_pred = regression.predict(X_test)\n",
    "print (y_pred)"
   ]
  },
  {
   "cell_type": "code",
   "execution_count": 9,
   "metadata": {},
   "outputs": [
    {
     "name": "stdout",
     "output_type": "stream",
     "text": [
      "   Actual Values of Y  Predicted Values of Y\n",
      "0                  27              34.609006\n",
      "1                  21              27.963112\n",
      "2                  76              69.737302\n"
     ]
    }
   ],
   "source": [
    "#Visualizing actual y and y pred\n",
    "'''\n",
    "flatten() is used to convert any array to a 1-D form. DataFrame uses 1-D array to form a table\n",
    "\n",
    "'''\n",
    "df = pd.DataFrame({'Actual Values of Y': y_test.flatten(), 'Predicted Values of Y': y_pred.flatten()})\n",
    "print (df)"
   ]
  },
  {
   "cell_type": "code",
   "execution_count": 10,
   "metadata": {},
   "outputs": [
    {
     "name": "stdout",
     "output_type": "stream",
     "text": [
      "If a student studies for 9.25 hrs/ day, he will score 92 marks.\n"
     ]
    }
   ],
   "source": [
    "#now for our own prediction\n",
    "hours_test = 9.25\n",
    "hours_test = np.array(hours_test).reshape(1, -1)\n",
    "score_op = regression.predict (hours_test)\n",
    "print (f\"If a student studies for 9.25 hrs/ day, he will score {int(score_op)} marks.\")"
   ]
  },
  {
   "cell_type": "code",
   "execution_count": 11,
   "metadata": {},
   "outputs": [
    {
     "name": "stdout",
     "output_type": "stream",
     "text": [
      "Maximum Error: 7.6090056883858495\n",
      "Mean Absolute Error : 6.944938465362271\n",
      "Mean Squared Error : 48.53442618594593\n",
      "Root Mean Squared Error : 6.96666535624799\n"
     ]
    }
   ],
   "source": [
    "#Metrics to determine how efficiently the model predicted marks when compared to actual values\n",
    "\n",
    "from sklearn import metrics\n",
    "print (f\"Maximum Error: {metrics.max_error(y_test, y_pred)}\")\n",
    "print (f\"Mean Absolute Error : {metrics.mean_absolute_error(y_test, y_pred)}\")\n",
    "print (f\"Mean Squared Error : {metrics.mean_squared_error(y_test, y_pred)}\")\n",
    "print (f\"Root Mean Squared Error : {np.sqrt(metrics.mean_squared_error(y_test, y_pred))}\")"
   ]
  },
  {
   "cell_type": "code",
   "execution_count": null,
   "metadata": {},
   "outputs": [],
   "source": []
  }
 ],
 "metadata": {
  "kernelspec": {
   "display_name": "Python 3",
   "language": "python",
   "name": "python3"
  },
  "language_info": {
   "codemirror_mode": {
    "name": "ipython",
    "version": 3
   },
   "file_extension": ".py",
   "mimetype": "text/x-python",
   "name": "python",
   "nbconvert_exporter": "python",
   "pygments_lexer": "ipython3",
   "version": "3.7.4"
  }
 },
 "nbformat": 4,
 "nbformat_minor": 4
}
